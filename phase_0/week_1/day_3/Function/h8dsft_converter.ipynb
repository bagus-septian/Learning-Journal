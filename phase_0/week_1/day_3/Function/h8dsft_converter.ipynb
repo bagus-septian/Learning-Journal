{
 "cells": [
  {
   "cell_type": "markdown",
   "metadata": {},
   "source": [
    "### NGC 2"
   ]
  },
  {
   "cell_type": "markdown",
   "metadata": {},
   "source": [
    "- Buatlah sebuah function yang dapat mengkonversi suhu dari kelvin ke celcius, dan celcius ke kelvin.\n",
    "- Buatlah sebuah function yang dapat mengkonversi suhu ke fahrenheit. Tambahkan parameter untuk memastikan bahwa argumen yang dimasukan adalah celcius atau kelvin. Panggil function yang pertama jika diperlukan.\n",
    "- Buatlah sebuah function yang dapat mengkonversi suhu dari fahrenheit. Berikan argumen untuk memastikan bahwa outputnya dalah celcius atau kelvin.\n",
    "- Berikan dokumentasi pada setiap baris kode yang kalian tulis."
   ]
  },
  {
   "cell_type": "code",
   "execution_count": 8,
   "metadata": {},
   "outputs": [
    {
     "name": "stdout",
     "output_type": "stream",
     "text": [
      "Suhu 473.15 K sama dengan suhu 200.0 C\n"
     ]
    }
   ],
   "source": [
    "# Function konversi semua suhu\n",
    "\n",
    "def konversi_suhu(suhu,skala,tujuan):\n",
    "  data_konversi = (suhu,skala,tujuan)\n",
    "  skala = skala.upper()\n",
    "  tujuan = tujuan.upper()\n",
    "  for tujuan in data_konversi:\n",
    "    if tujuan == \"K\":\n",
    "      if skala == \"C\":\n",
    "        konversi = suhu + 273.15\n",
    "        print(f\"Suhu {suhu} {skala} sama dengan suhu {konversi} {tujuan}\")\n",
    "      elif skala == \"F\":\n",
    "          konversi = ((suhu-32)*(5/9))+273.15\n",
    "          print(f\"Suhu {suhu} {skala} sama dengan suhu {konversi} {tujuan}\")\n",
    "      else:\n",
    "        continue     \n",
    "    if tujuan == \"C\":\n",
    "      if skala == \"K\":\n",
    "        konversi = (suhu - 273.15)\n",
    "        print(f\"Suhu {suhu} {skala} sama dengan suhu {konversi} {tujuan}\")\n",
    "      elif skala == \"F\":\n",
    "        konversi = (suhu-32)*(5/9)\n",
    "        print(f\"Suhu {suhu} {skala} sama dengan suhu {konversi} {tujuan}\")\n",
    "      else:\n",
    "        continue\n",
    "    if tujuan == \"F\":\n",
    "      if skala == \"K\":\n",
    "        konversi = ((suhu - 273.15)*(9/5))+32\n",
    "        print(f\"Suhu {suhu} {skala} sama dengan suhu {konversi} {tujuan}\")\n",
    "      elif skala == \"C\":\n",
    "        konversi = (suhu*(9/5))+32\n",
    "        print(f\"Suhu {suhu} {skala} sama dengan suhu {konversi} {tujuan}\")\n",
    "      else:\n",
    "        continue\n",
    "\n",
    "suhu = float(input(\"Masukkan besaran suhu : \"))\n",
    "skala = input(\"Masukkan skala suhu : \")\n",
    "tujuan = input(\"Masukkan konversi tujuan : \")\n",
    "konversi_suhu(suhu, skala, tujuan)\n"
   ]
  }
 ],
 "metadata": {
  "kernelspec": {
   "display_name": "Python 3.9.12 ('base')",
   "language": "python",
   "name": "python3"
  },
  "language_info": {
   "codemirror_mode": {
    "name": "ipython",
    "version": 3
   },
   "file_extension": ".py",
   "mimetype": "text/x-python",
   "name": "python",
   "nbconvert_exporter": "python",
   "pygments_lexer": "ipython3",
   "version": "3.9.12"
  },
  "orig_nbformat": 4,
  "vscode": {
   "interpreter": {
    "hash": "ad2bdc8ecc057115af97d19610ffacc2b4e99fae6737bb82f5d7fb13d2f2c186"
   }
  }
 },
 "nbformat": 4,
 "nbformat_minor": 2
}
