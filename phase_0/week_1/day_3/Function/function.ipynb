{
 "cells": [
  {
   "cell_type": "code",
   "execution_count": 80,
   "metadata": {},
   "outputs": [
    {
     "ename": "SyntaxError",
     "evalue": "invalid syntax (4101635123.py, line 2)",
     "output_type": "error",
     "traceback": [
      "\u001b[1;36m  Input \u001b[1;32mIn [80]\u001b[1;36m\u001b[0m\n\u001b[1;33m    ```\u001b[0m\n\u001b[1;37m    ^\u001b[0m\n\u001b[1;31mSyntaxError\u001b[0m\u001b[1;31m:\u001b[0m invalid syntax\n"
     ]
    }
   ],
   "source": [
    "def nama_function (parameter):\n",
    "  ```\n",
    "  docstrings = keterangan\n",
    "  ```\n",
    "  #body\n",
    "  print() # mencetak aja\n",
    "  return` # memunculkan sebuah nilai"
   ]
  },
  {
   "cell_type": "code",
   "execution_count": null,
   "metadata": {},
   "outputs": [],
   "source": [
    "def cetak (nama):\n",
    "  print(f\"saya adalah {nama}\")"
   ]
  },
  {
   "cell_type": "code",
   "execution_count": null,
   "metadata": {},
   "outputs": [
    {
     "name": "stdout",
     "output_type": "stream",
     "text": [
      "saya adalah Budi\n"
     ]
    }
   ],
   "source": [
    "cetak(\"Budi\")"
   ]
  },
  {
   "cell_type": "code",
   "execution_count": null,
   "metadata": {},
   "outputs": [],
   "source": [
    "def cetak (nama, pekerjaan):\n",
    "  print(f\"saya adalah {nama} sebagai {pekerjaan}\")"
   ]
  },
  {
   "cell_type": "code",
   "execution_count": null,
   "metadata": {},
   "outputs": [
    {
     "name": "stdout",
     "output_type": "stream",
     "text": [
      "saya adalah Budi sebagai Pilot\n"
     ]
    }
   ],
   "source": [
    "cetak(\"Budi\",\"Pilot\")"
   ]
  },
  {
   "cell_type": "code",
   "execution_count": null,
   "metadata": {},
   "outputs": [
    {
     "name": "stdout",
     "output_type": "stream",
     "text": [
      "saya adalah Mirna sebagai Wiraswasta\n"
     ]
    }
   ],
   "source": [
    "cetak(pekerjaan = \"Wiraswasta\", nama = \"Mirna\")"
   ]
  },
  {
   "cell_type": "code",
   "execution_count": null,
   "metadata": {},
   "outputs": [
    {
     "name": "stdout",
     "output_type": "stream",
     "text": [
      "saya adalah Saleh sebagai Pelukis\n"
     ]
    }
   ],
   "source": [
    "a = \"Pelukis\"\n",
    "b = \"Saleh\"\n",
    "\n",
    "cetak(pekerjaan = a, nama = b)"
   ]
  },
  {
   "cell_type": "code",
   "execution_count": null,
   "metadata": {},
   "outputs": [],
   "source": [
    "def tambah(x,y):\n",
    "    hasil = x+y\n",
    "    return hasil"
   ]
  },
  {
   "cell_type": "code",
   "execution_count": null,
   "metadata": {},
   "outputs": [
    {
     "data": {
      "text/plain": [
       "18"
      ]
     },
     "execution_count": 12,
     "metadata": {},
     "output_type": "execute_result"
    }
   ],
   "source": [
    "tambah(8,10)"
   ]
  },
  {
   "cell_type": "code",
   "execution_count": null,
   "metadata": {},
   "outputs": [],
   "source": [
    "mylist = [10,20,30]"
   ]
  },
  {
   "cell_type": "code",
   "execution_count": null,
   "metadata": {},
   "outputs": [],
   "source": [
    "def rubahlist(number):\n",
    "    mylist = number + [1,2,3]\n",
    "    return mylist"
   ]
  },
  {
   "cell_type": "code",
   "execution_count": null,
   "metadata": {},
   "outputs": [
    {
     "data": {
      "text/plain": [
       "[30, 20, 10, 1, 2, 3]"
      ]
     },
     "execution_count": 14,
     "metadata": {},
     "output_type": "execute_result"
    }
   ],
   "source": [
    "rubahlist([30,20,10])"
   ]
  },
  {
   "cell_type": "code",
   "execution_count": null,
   "metadata": {},
   "outputs": [
    {
     "data": {
      "text/plain": [
       "[10, 20, 30]"
      ]
     },
     "execution_count": 18,
     "metadata": {},
     "output_type": "execute_result"
    }
   ],
   "source": [
    "mylist"
   ]
  },
  {
   "cell_type": "code",
   "execution_count": null,
   "metadata": {},
   "outputs": [
    {
     "data": {
      "text/plain": [
       "25"
      ]
     },
     "execution_count": 20,
     "metadata": {},
     "output_type": "execute_result"
    }
   ],
   "source": [
    "x = 5 + tambah(10,10)\n",
    "x"
   ]
  },
  {
   "cell_type": "code",
   "execution_count": null,
   "metadata": {},
   "outputs": [],
   "source": [
    "def berhitung(x,y):\n",
    "    tambah = x+y\n",
    "    kurang = x-y\n",
    "    kali = x*y\n",
    "    bagi = x/y\n",
    "    return tambah,kurang,kali,bagi"
   ]
  },
  {
   "cell_type": "code",
   "execution_count": null,
   "metadata": {},
   "outputs": [
    {
     "name": "stdout",
     "output_type": "stream",
     "text": [
      "20\n",
      "0\n",
      "100\n",
      "1.0\n"
     ]
    }
   ],
   "source": [
    "a,b,c,d = berhitung(10,10)\n",
    "print(a)\n",
    "print(b)\n",
    "print(c)\n",
    "print(d)"
   ]
  },
  {
   "cell_type": "code",
   "execution_count": null,
   "metadata": {},
   "outputs": [],
   "source": [
    "def ganjil_genap(x):\n",
    "    if x % 2 == 0:\n",
    "        print(x,\"adalah bilangan genap\")\n",
    "    else:\n",
    "        print(x,\"adalah bilangan ganjil\")"
   ]
  },
  {
   "cell_type": "code",
   "execution_count": null,
   "metadata": {},
   "outputs": [
    {
     "name": "stdout",
     "output_type": "stream",
     "text": [
      "35 adalah bilangan ganjil\n"
     ]
    }
   ],
   "source": [
    "ganjil_genap(35)"
   ]
  },
  {
   "cell_type": "code",
   "execution_count": null,
   "metadata": {},
   "outputs": [],
   "source": [
    "x = input(\"masukkan kata hacktiv8 \")"
   ]
  },
  {
   "cell_type": "code",
   "execution_count": null,
   "metadata": {},
   "outputs": [],
   "source": [
    "def deteksi_kata(x):\n",
    "    if x in \"hacktiv8\":\n",
    "        print(True)\n",
    "    else:\n",
    "        print(False)"
   ]
  },
  {
   "cell_type": "code",
   "execution_count": null,
   "metadata": {},
   "outputs": [
    {
     "name": "stdout",
     "output_type": "stream",
     "text": [
      "False\n"
     ]
    }
   ],
   "source": [
    "deteksi_kata(x)"
   ]
  },
  {
   "cell_type": "code",
   "execution_count": null,
   "metadata": {},
   "outputs": [],
   "source": [
    "def deteksi_kata(kata):\n",
    "    return \"hacktiv8\" in kata.lower()"
   ]
  },
  {
   "cell_type": "code",
   "execution_count": null,
   "metadata": {},
   "outputs": [
    {
     "data": {
      "text/plain": [
       "True"
      ]
     },
     "execution_count": 48,
     "metadata": {},
     "output_type": "execute_result"
    }
   ],
   "source": [
    "deteksi_kata(\"HackTiv8\")"
   ]
  },
  {
   "cell_type": "code",
   "execution_count": null,
   "metadata": {},
   "outputs": [],
   "source": [
    "def tambah(*majemuk):\n",
    "  return sum(majemuk)"
   ]
  },
  {
   "cell_type": "code",
   "execution_count": null,
   "metadata": {},
   "outputs": [
    {
     "data": {
      "text/plain": [
       "21"
      ]
     },
     "execution_count": 50,
     "metadata": {},
     "output_type": "execute_result"
    }
   ],
   "source": [
    "tambah(10,5,3,2,1)"
   ]
  },
  {
   "cell_type": "code",
   "execution_count": null,
   "metadata": {},
   "outputs": [],
   "source": [
    "def pendaftaran(data,**kwargs):\n",
    "    print(data)\n",
    "    for id,score in kwargs.items():\n",
    "        print(f\"Pendaftaran atas nama {id}\")\n",
    "        print(f\"untuk keberangkatan {score}\")"
   ]
  },
  {
   "cell_type": "code",
   "execution_count": null,
   "metadata": {},
   "outputs": [
    {
     "name": "stdout",
     "output_type": "stream",
     "text": [
      "3\n",
      "Pendaftaran atas nama Rudi\n",
      "untuk keberangkatan Banten\n",
      "Pendaftaran atas nama Ana\n",
      "untuk keberangkatan Jakarta\n",
      "Pendaftaran atas nama Diana\n",
      "untuk keberangkatan Bandung\n"
     ]
    }
   ],
   "source": [
    "pendaftaran(3, Rudi=\"Banten\", Ana=\"Jakarta\", Diana=\"Bandung\")"
   ]
  },
  {
   "cell_type": "code",
   "execution_count": null,
   "metadata": {},
   "outputs": [],
   "source": [
    "\n",
    "def bmi_index(w,h):\n",
    "  bmi = w/(h**2)\n",
    "  if bmi <= 18.5:\n",
    "    print(\"BMI underweight\")\n",
    "  elif 18.5 <= bmi <= 24.9:\n",
    "    print(\"BMI Normal\")\n",
    "  elif 25 <= bmi <= 29.9:\n",
    "    print(\"BMI Overweight\")\n",
    "  else:\n",
    "    print(\"BMI Very Overweight\")"
   ]
  },
  {
   "cell_type": "code",
   "execution_count": null,
   "metadata": {},
   "outputs": [
    {
     "name": "stdout",
     "output_type": "stream",
     "text": [
      "BMI Normal\n"
     ]
    }
   ],
   "source": [
    "bmi_index(80,2)"
   ]
  },
  {
   "cell_type": "code",
   "execution_count": null,
   "metadata": {},
   "outputs": [],
   "source": [
    "def bmi_calculator(nama,berat,tinggi):\n",
    "    bmi = berat/tinggi**2\n",
    "    if bmi < 18.5:\n",
    "        print(f\"{nama} score bmi anda adalah {bmi}, Anda underweight\")\n",
    "    elif bmi >=18.5 and bmi <=24.9:\n",
    "        print(f\"{nama} score bmi anda adalah {bmi}, Anda normal\")\n",
    "    else:\n",
    "        print(f\"{nama} score bmi anda adalah {bmi}, Anda overweight\")"
   ]
  },
  {
   "cell_type": "code",
   "execution_count": null,
   "metadata": {},
   "outputs": [
    {
     "name": "stdout",
     "output_type": "stream",
     "text": [
      "Juned score bmi anda adalah 31.249999999999993, Anda overweight\n"
     ]
    }
   ],
   "source": [
    "bmi_calculator(\"Juned\", 80, 1.6)"
   ]
  },
  {
   "cell_type": "code",
   "execution_count": 123,
   "metadata": {},
   "outputs": [],
   "source": [
    "# konversi ke celcius\n",
    "\n",
    "def konversi_suhu(suhu,skala):\n",
    "    if \"K\" in skala.upper():\n",
    "        konversi = suhu - 273.15\n",
    "        print(f\"Suhu {suhu} K sama dengan suhu {konversi} C\")\n",
    "    else:\n",
    "        konversi = suhu + 273.15\n",
    "        print(f\"Suhu {suhu} C sama dengan suhu {konversi} K\")"
   ]
  },
  {
   "cell_type": "code",
   "execution_count": 124,
   "metadata": {},
   "outputs": [
    {
     "name": "stdout",
     "output_type": "stream",
     "text": [
      "Suhu 200 K sama dengan suhu -73.14999999999998 C\n"
     ]
    }
   ],
   "source": [
    "konversi_suhu(200,\"K\")"
   ]
  },
  {
   "cell_type": "code",
   "execution_count": 142,
   "metadata": {},
   "outputs": [],
   "source": [
    "def konversi_ke_fahrenheit(suhu, skala):\n",
    "    if \"K\" in skala.upper():\n",
    "        konversi = ((suhu-273.15)*(9/5))+32\n",
    "        print(f\"Suhu {suhu} K sama dengan suhu {konversi} F\")\n",
    "    else:\n",
    "        konversi = (suhu*(9/5))+32\n",
    "        print(f\"Suhu {suhu} C sama dengan suhu {konversi} F\")"
   ]
  },
  {
   "cell_type": "code",
   "execution_count": 143,
   "metadata": {},
   "outputs": [
    {
     "name": "stdout",
     "output_type": "stream",
     "text": [
      "Suhu 0 C sama dengan suhu 32.0 F\n"
     ]
    }
   ],
   "source": [
    "konversi_fahrenheit(0,\"C\")"
   ]
  },
  {
   "cell_type": "code",
   "execution_count": 151,
   "metadata": {},
   "outputs": [],
   "source": [
    "def konversi_dari_fahrenheit(suhu, skalatujuan):\n",
    "    if \"K\" in skalatujuan.upper():\n",
    "        konversi = ((suhu-32)*(5/9))+273.15\n",
    "        print(f\"Suhu {suhu} F sama dengan suhu {konversi} K\")\n",
    "    else:\n",
    "        konversi = ((suhu-32)*(5/9))\n",
    "        print(f\"Suhu {suhu} F sama dengan suhu {konversi} C\")"
   ]
  },
  {
   "cell_type": "code",
   "execution_count": 154,
   "metadata": {},
   "outputs": [
    {
     "name": "stdout",
     "output_type": "stream",
     "text": [
      "Suhu 100 F sama dengan suhu 37.77777777777778 C\n"
     ]
    }
   ],
   "source": [
    "konversi_dari_fahrenheit(100,\"C\")"
   ]
  }
 ],
 "metadata": {
  "kernelspec": {
   "display_name": "Python 3.9.12 ('base')",
   "language": "python",
   "name": "python3"
  },
  "language_info": {
   "codemirror_mode": {
    "name": "ipython",
    "version": 3
   },
   "file_extension": ".py",
   "mimetype": "text/x-python",
   "name": "python",
   "nbconvert_exporter": "python",
   "pygments_lexer": "ipython3",
   "version": "3.9.12"
  },
  "orig_nbformat": 4,
  "vscode": {
   "interpreter": {
    "hash": "ad2bdc8ecc057115af97d19610ffacc2b4e99fae6737bb82f5d7fb13d2f2c186"
   }
  }
 },
 "nbformat": 4,
 "nbformat_minor": 2
}
