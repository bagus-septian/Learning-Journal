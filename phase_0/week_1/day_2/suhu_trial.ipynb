{
 "cells": [
  {
   "cell_type": "markdown",
   "metadata": {},
   "source": [
    "### NGC 2"
   ]
  },
  {
   "cell_type": "markdown",
   "metadata": {},
   "source": [
    "- Buatlah sebuah function yang dapat mengkonversi suhu dari kelvin ke celcius, dan celcius ke kelvin.\n",
    "- Buatlah sebuah function yang dapat mengkonversi suhu ke fahrenheit. Tambahkan parameter untuk memastikan bahwa argumen yang dimasukan adalah celcius atau kelvin. Panggil function yang pertama jika diperlukan.\n",
    "- Buatlah sebuah function yang dapat mengkonversi suhu dari fahrenheit. Berikan argumen untuk memastikan bahwa outputnya dalah celcius atau kelvin.\n",
    "- Berikan dokumentasi pada setiap baris kode yang kalian tulis."
   ]
  },
  {
   "cell_type": "code",
   "execution_count": 1,
   "metadata": {},
   "outputs": [],
   "source": [
    "# Function konversi suhu dari kelvin ke celcius, dan celcius ke kelvin\n",
    "\n",
    "def konversi_suhu(suhu,skala):\n",
    "        if \"K\" in skala.upper():\n",
    "        konversi = suhu - 273.15\n",
    "        print(f\"Suhu {suhu} K sama dengan suhu {konversi} C\")\n",
    "    else:\n",
    "        konversi = suhu + 273.15\n",
    "        print(f\"Suhu {suhu} C sama dengan suhu {konversi} K\")"
   ]
  },
  {
   "cell_type": "code",
   "execution_count": 15,
   "metadata": {},
   "outputs": [
    {
     "name": "stdout",
     "output_type": "stream",
     "text": [
      "Suhu 200 C sama dengan suhu 473.15 K\n"
     ]
    }
   ],
   "source": [
    "# Hasil function\n",
    "konversi_suhu(200,\"C\")"
   ]
  },
  {
   "cell_type": "code",
   "execution_count": 3,
   "metadata": {},
   "outputs": [],
   "source": [
    "# Function konversi suhu ke fahrenheit, dengan parameter untuk argumen yang dimasukkan adalah celcius atau kelvin\n",
    "\n",
    "def konversi_ke_fahrenheit(suhu, skala):\n",
    "    if \"K\" in skala.upper():\n",
    "        konversi = ((suhu-273.15)*(9/5))+32\n",
    "        print(f\"Suhu {suhu} K sama dengan suhu {konversi} F\")\n",
    "    else:\n",
    "        konversi = (suhu*(9/5))+32\n",
    "        print(f\"Suhu {suhu} C sama dengan suhu {konversi} F\")"
   ]
  },
  {
   "cell_type": "code",
   "execution_count": 14,
   "metadata": {},
   "outputs": [
    {
     "name": "stdout",
     "output_type": "stream",
     "text": [
      "Suhu 0 C sama dengan suhu 32.0 F\n"
     ]
    }
   ],
   "source": [
    "# Hasil function\n",
    "konversi_ke_fahrenheit(0,\"C\")"
   ]
  },
  {
   "cell_type": "code",
   "execution_count": 6,
   "metadata": {},
   "outputs": [],
   "source": [
    "# Function konversi suhu dari fehrenheit, dengan argumen untuk memastikan bahwa outpunya adalah celcius atau kelvin\n",
    "\n",
    "def konversi_dari_fahrenheit(suhu, skalatujuan):\n",
    "    if \"K\" in skalatujuan.upper():\n",
    "        konversi = ((suhu-32)*(5/9))+273.15\n",
    "        print(f\"Suhu {suhu} F sama dengan suhu {konversi} K\")\n",
    "    else:\n",
    "        konversi = ((suhu-32)*(5/9))\n",
    "        print(f\"Suhu {suhu} F sama dengan suhu {konversi} C\")"
   ]
  },
  {
   "cell_type": "code",
   "execution_count": 8,
   "metadata": {},
   "outputs": [
    {
     "name": "stdout",
     "output_type": "stream",
     "text": [
      "Suhu 100 F sama dengan suhu 310.92777777777775 K\n"
     ]
    }
   ],
   "source": [
    "# Hasil function\n",
    "konversi_dari_fahrenheit(100,\"K\")"
   ]
  }
 ],
 "metadata": {
  "kernelspec": {
   "display_name": "Python 3.9.12 ('base')",
   "language": "python",
   "name": "python3"
  },
  "language_info": {
   "codemirror_mode": {
    "name": "ipython",
    "version": 3
   },
   "file_extension": ".py",
   "mimetype": "text/x-python",
   "name": "python",
   "nbconvert_exporter": "python",
   "pygments_lexer": "ipython3",
   "version": "3.9.12"
  },
  "orig_nbformat": 4,
  "vscode": {
   "interpreter": {
    "hash": "ad2bdc8ecc057115af97d19610ffacc2b4e99fae6737bb82f5d7fb13d2f2c186"
   }
  }
 },
 "nbformat": 4,
 "nbformat_minor": 2
}
