{
 "cells": [
  {
   "cell_type": "markdown",
   "metadata": {},
   "source": [
    "Loop, Conditional IF, Function, Numpy\n",
    "\n",
    "Buatlah sebuah fungsi untuk mendeteksi suatu kata terdapat pada suatu kalimat dan posisinya berada di kata ke-berapa dalam sebuah kalimat. Gunakan Loop, Conditional If, dan Numpy array untuk kasus ini"
   ]
  },
  {
   "cell_type": "markdown",
   "metadata": {},
   "source": [
    "Expected Output 1\n",
    "\n",
    "- In: word_detection(\"apa\", \"apa kabar kamu?\")\n",
    "- Out: Kata 'apa' berada di kata ke-1 pada kalimat ini."
   ]
  },
  {
   "cell_type": "markdown",
   "metadata": {},
   "source": [
    "Expected Output 2\n",
    "\n",
    "- In: word_detection(\"apa\", \"kamu siapa namanya?\")\n",
    "- Out: Kata 'apa' tidak terdapat pada kalimat ini."
   ]
  },
  {
   "cell_type": "code",
   "execution_count": 5,
   "metadata": {},
   "outputs": [],
   "source": [
    "import numpy as np"
   ]
  },
  {
   "cell_type": "code",
   "execution_count": 22,
   "metadata": {},
   "outputs": [
    {
     "name": "stdout",
     "output_type": "stream",
     "text": [
      "Kata 'berbuat' berada di kata ke-6 pada kalimat ini.\n"
     ]
    }
   ],
   "source": [
    "\n",
    "def deteksi_kata(kalimat,kata):\n",
    "    kalimat = np.array(kalimat)\n",
    "    kalimat_splt = np.char.split(kalimat)\n",
    "    list_kata = kalimat_splt.tolist()\n",
    "    identifikasi = False\n",
    "    for idx,value in enumerate(list_kata):\n",
    "        if value == kata:\n",
    "            print(f\"Kata '{kata}' berada di kata ke-{idx+1} pada kalimat ini.\")\n",
    "            identifikasi = True\n",
    "        else :\n",
    "            continue\n",
    "    if identifikasi != True:\n",
    "        print(f\"Kata '{kata}' tidak terdapat pada kalimat ini.\")\n",
    "\n",
    "        \n",
    "kalimat = input(\"Masukkan kalimat: \")\n",
    "kata = input(\"Masukkan kata yang ingin dicari: \")\n",
    "deteksi_kata(kalimat,kata)"
   ]
  },
  {
   "cell_type": "code",
   "execution_count": 109,
   "metadata": {},
   "outputs": [
    {
     "name": "stdout",
     "output_type": "stream",
     "text": [
      "Kata 'apa' berada di kata ke-0 pada kalimat ini.\n",
      "Kata 'apa' tidak terdapat pada kalimat ini.\n"
     ]
    }
   ],
   "source": [
    "phrase = [\"apa\", \"apa kabar kamu?\"]\n",
    "phrase = np.array(phrase)\n",
    "\n",
    "def cari_kata(phrase):\n",
    "    for idx,kata in enumerate(phrase):\n",
    "        if kata == \"apa\":\n",
    "            print(f\"Kata 'apa' berada di kata ke-{idx} pada kalimat ini.\")\n",
    "        else:\n",
    "            continue\n",
    "    if kata != \"apa\":\n",
    "        print(f\"Kata 'apa' tidak terdapat pada kalimat ini.\")\n",
    "\n",
    "\n",
    "\n",
    "cari_kata(phrase)\n"
   ]
  },
  {
   "cell_type": "code",
   "execution_count": 1,
   "metadata": {},
   "outputs": [
    {
     "name": "stdout",
     "output_type": "stream",
     "text": [
      "String : kamu dimana dengan siapa semalam berbuat apa\n",
      "Search : apa\n",
      "\n",
      "Kata 'apa' berada di kata ke-7 pada kalimat ini.\n"
     ]
    }
   ],
   "source": [
    "def word_detection(str, search):\n",
    "    split_str = str.split(' ')\n",
    "    found = False\n",
    "    for x,y in enumerate(split_str):\n",
    "        if search == y:\n",
    "            print(f\"Kata '{search}' berada di kata ke-{x+1} pada kalimat ini.\")\n",
    "            found = True\n",
    "        else:\n",
    "            continue\n",
    "    \n",
    "    if found != True:\n",
    "        print(f\"Kata '{search}' tidak terdapat pada kalimat ini.\")\n",
    "\n",
    "\n",
    "\n",
    "str = input(\"Masukkan kata kata : \")\n",
    "search = input(\"Masukkan kata yang ingin dicari indexnya : \")\n",
    "print(f\"String : {str}\")\n",
    "print(f\"Search : {search}\\n\")\n",
    "word_detection(str,search)"
   ]
  },
  {
   "cell_type": "code",
   "execution_count": 20,
   "metadata": {},
   "outputs": [
    {
     "name": "stdout",
     "output_type": "stream",
     "text": [
      "['kamu', 'dimana', 'dengan', 'siapa', 'semalam', 'berbuat', 'apa']\n",
      "{1: 'kamu dimana dengan siapa semalam berbuat apa'}\n",
      "0\n",
      "kamu\n",
      "1\n",
      "dimana\n",
      "2\n",
      "dengan\n",
      "3\n",
      "siapa\n",
      "4\n",
      "semalam\n",
      "5\n",
      "berbuat\n",
      "6\n",
      "apa\n",
      "['kamu', 'dimana', 'dengan', 'siapa', 'semalam', 'berbuat', 'apa']\n"
     ]
    }
   ],
   "source": [
    "phrase = (\"kamu dimana dengan siapa semalam berbuat apa\")\n",
    "phrase = np.array(phrase)\n",
    "phrase_splt = np.char.split(phrase)\n",
    "print(phrase_splt)\n",
    "lib_phrase = dict(enumerate(phrase.flatten(), 1))\n",
    "lst_phrase = phrase_splt.tolist()\n",
    "print(lib_phrase)\n",
    "for x,y in enumerate(lst_phrase):\n",
    "    print(x)\n",
    "    print(y)\n",
    "print(lst_phrase)"
   ]
  }
 ],
 "metadata": {
  "kernelspec": {
   "display_name": "Python 3.9.12 ('base')",
   "language": "python",
   "name": "python3"
  },
  "language_info": {
   "codemirror_mode": {
    "name": "ipython",
    "version": 3
   },
   "file_extension": ".py",
   "mimetype": "text/x-python",
   "name": "python",
   "nbconvert_exporter": "python",
   "pygments_lexer": "ipython3",
   "version": "3.9.12"
  },
  "orig_nbformat": 4,
  "vscode": {
   "interpreter": {
    "hash": "ad2bdc8ecc057115af97d19610ffacc2b4e99fae6737bb82f5d7fb13d2f2c186"
   }
  }
 },
 "nbformat": 4,
 "nbformat_minor": 2
}
