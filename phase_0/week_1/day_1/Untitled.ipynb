{
 "cells": [
  {
   "cell_type": "code",
   "execution_count": 1,
   "id": "ec5db0f4",
   "metadata": {},
   "outputs": [
    {
     "name": "stdout",
     "output_type": "stream",
     "text": [
      "Halo Hacktiv8!\n"
     ]
    }
   ],
   "source": [
    "print(\"Halo Hacktiv8!\")"
   ]
  },
  {
   "cell_type": "code",
   "execution_count": 2,
   "id": "c18299ba",
   "metadata": {},
   "outputs": [],
   "source": [
    "#Ini Judul"
   ]
  },
  {
   "cell_type": "markdown",
   "id": "0cf555af",
   "metadata": {},
   "source": [
    "#Ini Judul"
   ]
  },
  {
   "cell_type": "markdown",
   "id": "3feb9449",
   "metadata": {},
   "source": []
  }
 ],
 "metadata": {
  "kernelspec": {
   "display_name": "Python 3 (ipykernel)",
   "language": "python",
   "name": "python3"
  },
  "language_info": {
   "codemirror_mode": {
    "name": "ipython",
    "version": 3
   },
   "file_extension": ".py",
   "mimetype": "text/x-python",
   "name": "python",
   "nbconvert_exporter": "python",
   "pygments_lexer": "ipython3",
   "version": "3.9.12"
  }
 },
 "nbformat": 4,
 "nbformat_minor": 5
}
