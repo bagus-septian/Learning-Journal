{
 "cells": [
  {
   "cell_type": "markdown",
   "metadata": {},
   "source": [
    "# Non Graded Challenge 4\n",
    "\n",
    "Muhamad Bagus Septian - FTDS 13"
   ]
  },
  {
   "cell_type": "code",
   "execution_count": 2,
   "metadata": {},
   "outputs": [],
   "source": [
    "import numpy as np"
   ]
  },
  {
   "cell_type": "markdown",
   "metadata": {},
   "source": [
    "## 1. Buatlah Tensor dibawah ini dengan Python:\n",
    "\n",
    "  $$\n",
    "  \\begin{bmatrix}   \\begin{bmatrix}   23 & 50 \\\\   7 & 12 \\\\   \\end{bmatrix}   \\begin{bmatrix}   57 & 67 \\\\   99 & 43   \\end{bmatrix} \\\\    \\begin{bmatrix}   75 & 21 \\\\   57 & 12 \\\\   \\end{bmatrix}   \\begin{bmatrix}   87 & 26 \\\\   18 & 84   \\end{bmatrix}   \\end{bmatrix}\n",
    "  $$"
   ]
  },
  {
   "cell_type": "code",
   "execution_count": 6,
   "metadata": {},
   "outputs": [
    {
     "name": "stdout",
     "output_type": "stream",
     "text": [
      "[[[23 50]\n",
      "  [ 7  2]]\n",
      "\n",
      " [[57 67]\n",
      "  [99 43]]\n",
      "\n",
      " [[75 21]\n",
      "  [57 12]]\n",
      "\n",
      " [[87 26]\n",
      "  [18 84]]]\n"
     ]
    }
   ],
   "source": [
    "tensor = np.array([\n",
    "                    [\n",
    "                        [23, 50], \n",
    "                        [7, 2]\n",
    "                    ],\n",
    "                    [\n",
    "                        [57, 67],\n",
    "                        [99, 43]\n",
    "                    ],\n",
    "                    [   [75, 21],\n",
    "                        [57, 12]\n",
    "                    ],\n",
    "                    [   [87, 26],\n",
    "                        [18, 84]\n",
    "                    ]\n",
    "                    ])\n",
    "\n",
    "print(tensor)"
   ]
  },
  {
   "cell_type": "markdown",
   "metadata": {},
   "source": [
    "## 2. Lakukan perkalian terhadap matrix berikut:\n",
    "\n",
    "  $$\n",
    "  A =\n",
    "  \\begin{bmatrix}\n",
    "  23 & 50 & 19 \\\\\n",
    "  7 & 12 & 109 \\\\\n",
    "  57 & 67 & 98\n",
    "  \\end{bmatrix}\n",
    "  \\begin{bmatrix}\n",
    "  17 \\\\\n",
    "  22 \\\\\n",
    "  19\n",
    "  \\end{bmatrix}\n",
    "  $$"
   ]
  },
  {
   "cell_type": "code",
   "execution_count": 5,
   "metadata": {},
   "outputs": [
    {
     "name": "stdout",
     "output_type": "stream",
     "text": [
      "[[ 23  50  19]\n",
      " [  7  12 109]\n",
      " [ 57  67  98]]\n",
      " \n",
      "[[17]\n",
      " [22]\n",
      " [19]]\n"
     ]
    }
   ],
   "source": [
    "# Membuat matrix di python\n",
    "A = np.array([[23, 50, 19],\n",
    "                [7, 12, 109],\n",
    "                [57, 67, 98]])\n",
    "\n",
    "B = np.array([[17], [22], [19]])\n",
    "\n",
    "print(A)\n",
    "print(\" \")\n",
    "print(B)"
   ]
  },
  {
   "cell_type": "code",
   "execution_count": 7,
   "metadata": {},
   "outputs": [
    {
     "data": {
      "text/plain": [
       "array([[1852],\n",
       "       [2454],\n",
       "       [4305]])"
      ]
     },
     "execution_count": 7,
     "metadata": {},
     "output_type": "execute_result"
    }
   ],
   "source": [
    "# Perhitungan perkalian matrix\n",
    "\n",
    "A @ B"
   ]
  },
  {
   "cell_type": "markdown",
   "metadata": {},
   "source": [
    "## 3. Lakukan Transpose, hitung determinan, dan inverse terhadap matrix dibawah ini:\n",
    "\n",
    "  $$\n",
    "  \\begin{bmatrix}\n",
    "  23 & 50 & 19 \\\\\n",
    "  7 & 12 & 109 \\\\\n",
    "  57 & 67 & 98\n",
    "  \\end{bmatrix}\n",
    "  $$"
   ]
  },
  {
   "cell_type": "code",
   "execution_count": 8,
   "metadata": {},
   "outputs": [
    {
     "data": {
      "text/plain": [
       "array([[ 23,  50,  19],\n",
       "       [  7,  12, 109],\n",
       "       [ 57,  67,  98]])"
      ]
     },
     "execution_count": 8,
     "metadata": {},
     "output_type": "execute_result"
    }
   ],
   "source": [
    "x = np.array([[23, 50, 19],\n",
    "                [7, 12, 109],\n",
    "                [57, 67, 98]])\n",
    "\n",
    "x"
   ]
  },
  {
   "cell_type": "code",
   "execution_count": 9,
   "metadata": {},
   "outputs": [
    {
     "data": {
      "text/plain": [
       "array([[ 23,   7,  57],\n",
       "       [ 50,  12,  67],\n",
       "       [ 19, 109,  98]])"
      ]
     },
     "execution_count": 9,
     "metadata": {},
     "output_type": "execute_result"
    }
   ],
   "source": [
    "# Transpose matrix\n",
    "x.T"
   ]
  },
  {
   "cell_type": "code",
   "execution_count": 10,
   "metadata": {},
   "outputs": [
    {
     "data": {
      "text/plain": [
       "131344.0000000002"
      ]
     },
     "execution_count": 10,
     "metadata": {},
     "output_type": "execute_result"
    }
   ],
   "source": [
    "# Perhitungan determinan matrix\n",
    "np.linalg.det(x)"
   ]
  },
  {
   "cell_type": "code",
   "execution_count": 12,
   "metadata": {},
   "outputs": [
    {
     "data": {
      "text/plain": [
       "array([[-0.0466485 , -0.02761451,  0.03975819],\n",
       "       [ 0.04208034,  0.00891552, -0.01807467],\n",
       "       [-0.00163692,  0.0099662 , -0.00056341]])"
      ]
     },
     "execution_count": 12,
     "metadata": {},
     "output_type": "execute_result"
    }
   ],
   "source": [
    "# Perhitungan inverse matrix\n",
    "np.linalg.inv(x)"
   ]
  }
 ],
 "metadata": {
  "kernelspec": {
   "display_name": "Python 3.9.12 ('base')",
   "language": "python",
   "name": "python3"
  },
  "language_info": {
   "codemirror_mode": {
    "name": "ipython",
    "version": 3
   },
   "file_extension": ".py",
   "mimetype": "text/x-python",
   "name": "python",
   "nbconvert_exporter": "python",
   "pygments_lexer": "ipython3",
   "version": "3.9.12"
  },
  "orig_nbformat": 4,
  "vscode": {
   "interpreter": {
    "hash": "ad2bdc8ecc057115af97d19610ffacc2b4e99fae6737bb82f5d7fb13d2f2c186"
   }
  }
 },
 "nbformat": 4,
 "nbformat_minor": 2
}
