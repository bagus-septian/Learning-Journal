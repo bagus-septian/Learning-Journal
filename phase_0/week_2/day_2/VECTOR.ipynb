{
  "cells": [
    {
      "cell_type": "code",
      "execution_count": 1,
      "metadata": {
        "id": "AF3BR7edz8hi"
      },
      "outputs": [],
      "source": [
        "import numpy as np\n",
        "import matplotlib.pyplot as plt"
      ]
    },
    {
      "cell_type": "code",
      "execution_count": 24,
      "metadata": {},
      "outputs": [],
      "source": [
        "def plot_vector2d(vector2d, origin=[0, 0], **options):\n",
        "    return plt.arrow(origin[0], origin[1], vector2d[0], vector2d[1],\n",
        "              head_width=0.2, head_length=0.3, length_includes_head=True,\n",
        "              **options)"
      ]
    },
    {
      "cell_type": "code",
      "execution_count": 2,
      "metadata": {
        "colab": {
          "base_uri": "https://localhost:8080/"
        },
        "id": "GxjrYtlo0G47",
        "outputId": "ce5e883d-9126-4fc0-f057-ec7570fc6a8a"
      },
      "outputs": [
        {
          "data": {
            "text/plain": [
              "array([2, 7, 5])"
            ]
          },
          "execution_count": 2,
          "metadata": {},
          "output_type": "execute_result"
        }
      ],
      "source": [
        "a = np.array([1, 5, 2])\n",
        "b = np.array([1, 2, 3])\n",
        "\n",
        "a + b"
      ]
    },
    {
      "cell_type": "code",
      "execution_count": null,
      "metadata": {
        "colab": {
          "base_uri": "https://localhost:8080/"
        },
        "id": "hNCSiK6S0G2k",
        "outputId": "fcc00745-35e8-4064-f21f-46456c594a18"
      },
      "outputs": [
        {
          "data": {
            "text/plain": [
              "[1, 5, 2, 1, 2, 3]"
            ]
          },
          "execution_count": 7,
          "metadata": {},
          "output_type": "execute_result"
        }
      ],
      "source": [
        "a = [1, 5, 2]\n",
        "b = [1, 2, 3]\n",
        "\n",
        "a + b"
      ]
    },
    {
      "cell_type": "code",
      "execution_count": null,
      "metadata": {
        "colab": {
          "base_uri": "https://localhost:8080/"
        },
        "id": "I8sVWXZZ0Gz4",
        "outputId": "fac4c64c-c33f-4c1b-f734-08351de897a5"
      },
      "outputs": [
        {
          "data": {
            "text/plain": [
              "array([5, 2])"
            ]
          },
          "execution_count": 12,
          "metadata": {},
          "output_type": "execute_result"
        }
      ],
      "source": [
        "a[1:]"
      ]
    },
    {
      "cell_type": "markdown",
      "metadata": {
        "id": "il2XKwif70a_"
      },
      "source": [
        "## Vektor Norm"
      ]
    },
    {
      "cell_type": "code",
      "execution_count": 3,
      "metadata": {
        "id": "Jg6Z0dyH8BZQ"
      },
      "outputs": [],
      "source": [
        "v = np.array([4, 3])"
      ]
    },
    {
      "cell_type": "code",
      "execution_count": 4,
      "metadata": {
        "colab": {
          "base_uri": "https://localhost:8080/"
        },
        "id": "ry8B7OIx0GxT",
        "outputId": "4e798b39-c696-4349-9973-ae1213057537"
      },
      "outputs": [
        {
          "data": {
            "text/plain": [
              "5.0"
            ]
          },
          "execution_count": 4,
          "metadata": {},
          "output_type": "execute_result"
        }
      ],
      "source": [
        "np.linalg.norm(v)"
      ]
    },
    {
      "cell_type": "code",
      "execution_count": 6,
      "metadata": {
        "colab": {
          "base_uri": "https://localhost:8080/",
          "height": 269
        },
        "id": "gV1C1dni0Guc",
        "outputId": "588f3f02-e6b3-4044-c246-2a5347b929ac"
      },
      "outputs": [
        {
          "data": {
            "image/png": "[encoded data removed]",
            "text/plain": [
              "<Figure size 432x288 with 1 Axes>"
            ]
          },
          "metadata": {
            "needs_background": "light"
          },
          "output_type": "display_data"
        }
      ],
      "source": [
        "v = np.array([4, 3])\n",
        "\n",
        "plot_vector2d(v, color='r')\n",
        "\n",
        "plt.axis([0,5,0,5]) # rentang axis sumbu x dan y\n",
        "plt.grid()\n",
        "plt.show()"
      ]
    },
    {
      "cell_type": "code",
      "execution_count": 7,
      "metadata": {
        "id": "Vgl99rHi0GsE"
      },
      "outputs": [
        {
          "data": {
            "text/plain": [
              "5.0"
            ]
          },
          "execution_count": 7,
          "metadata": {},
          "output_type": "execute_result"
        }
      ],
      "source": [
        "np.linalg.norm(v)"
      ]
    },
    {
      "cell_type": "code",
      "execution_count": 8,
      "metadata": {
        "id": "ApnGmC_l0GlN"
      },
      "outputs": [
        {
          "data": {
            "text/plain": [
              "1.0"
            ]
          },
          "execution_count": 8,
          "metadata": {},
          "output_type": "execute_result"
        }
      ],
      "source": [
        "# vektor unit\n",
        "u = np.array([4/5,3/5])\n",
        "\n",
        "np.linalg.norm(u)"
      ]
    },
    {
      "cell_type": "code",
      "execution_count": 10,
      "metadata": {
        "id": "AaU8Z6yt0GiJ"
      },
      "outputs": [
        {
          "data": {
            "text/plain": [
              "1.0"
            ]
          },
          "execution_count": 10,
          "metadata": {},
          "output_type": "execute_result"
        }
      ],
      "source": [
        "u = np.array([1,2,3])\n",
        "\n",
        "np.linalg.norm(u/np.linalg.norm(u))"
      ]
    },
    {
      "cell_type": "code",
      "execution_count": 11,
      "metadata": {
        "id": "oF7VZLo10Gfb"
      },
      "outputs": [
        {
          "name": "stdout",
          "output_type": "stream",
          "text": [
            "[1 5 2] [1 2 3]\n"
          ]
        }
      ],
      "source": [
        "print (a, b)"
      ]
    },
    {
      "cell_type": "code",
      "execution_count": 12,
      "metadata": {
        "id": "VUfZqiwK0Gch"
      },
      "outputs": [
        {
          "data": {
            "text/plain": [
              "array([11, 15, 12])"
            ]
          },
          "execution_count": 12,
          "metadata": {},
          "output_type": "execute_result"
        }
      ],
      "source": [
        "# penjumlahan bilangan skalar\n",
        "a + 10"
      ]
    },
    {
      "cell_type": "code",
      "execution_count": 23,
      "metadata": {
        "id": "rOoQ66o20GZq"
      },
      "outputs": [
        {
          "data": {
            "image/png": "[encoded data removed]",
            "text/plain": [
              "<Figure size 432x288 with 1 Axes>"
            ]
          },
          "metadata": {
            "needs_background": "light"
          },
          "output_type": "display_data"
        }
      ],
      "source": [
        "v = np.array([3,5])\n",
        "u = np.array([4,1])\n",
        "\n",
        "plot_vector2d(v, color=\"r\")\n",
        "plot_vector2d(-u, origin= v, color=\"g\")\n",
        "plot_vector2d(v-u, color=\"b\")\n",
        "\n",
        "plt.axis([-10,10,-10,10]) # rentang axis sumbu x dan y\n",
        "plt.axvline(0,0)\n",
        "plt.axhline(0,0)\n",
        "plt.grid()\n",
        "plt.show()"
      ]
    },
    {
      "cell_type": "code",
      "execution_count": 20,
      "metadata": {},
      "outputs": [
        {
          "name": "stdout",
          "output_type": "stream",
          "text": [
            "[1 5 2] [1 2 3]\n"
          ]
        }
      ],
      "source": [
        "print(a,b)"
      ]
    },
    {
      "cell_type": "code",
      "execution_count": 21,
      "metadata": {},
      "outputs": [
        {
          "data": {
            "text/plain": [
              "array([-4,  0, -3])"
            ]
          },
          "execution_count": 21,
          "metadata": {},
          "output_type": "execute_result"
        }
      ],
      "source": [
        "# vektor terhadap skalar\n",
        "a - 5"
      ]
    },
    {
      "cell_type": "code",
      "execution_count": 22,
      "metadata": {
        "id": "bHaBPU4Q0FgE"
      },
      "outputs": [
        {
          "data": {
            "text/plain": [
              "array([ 0,  3, -1])"
            ]
          },
          "execution_count": 22,
          "metadata": {},
          "output_type": "execute_result"
        }
      ],
      "source": [
        "# vektor terhadap vektor\n",
        "\n",
        "a - b"
      ]
    },
    {
      "cell_type": "markdown",
      "metadata": {},
      "source": [
        "## pembagian"
      ]
    },
    {
      "cell_type": "code",
      "execution_count": 26,
      "metadata": {},
      "outputs": [
        {
          "name": "stdout",
          "output_type": "stream",
          "text": [
            "[1 5 2] [1 2 3]\n"
          ]
        },
        {
          "data": {
            "text/plain": [
              "array([20.,  4., 10.])"
            ]
          },
          "execution_count": 26,
          "metadata": {},
          "output_type": "execute_result"
        }
      ],
      "source": [
        "# vektor terhadap skalar\n",
        "print(a,b)\n",
        "20/a"
      ]
    },
    {
      "cell_type": "code",
      "execution_count": 27,
      "metadata": {},
      "outputs": [
        {
          "data": {
            "text/plain": [
              "array([1.        , 2.5       , 0.66666667])"
            ]
          },
          "execution_count": 27,
          "metadata": {},
          "output_type": "execute_result"
        }
      ],
      "source": [
        "# vektor terhadap vektor\n",
        "a / b"
      ]
    },
    {
      "cell_type": "markdown",
      "metadata": {},
      "source": [
        "perkalian\n",
        "- vektor terhadap scalar (scaling)\n",
        "- vektor terhadap vektor (element wise)\n",
        "- dot product"
      ]
    },
    {
      "cell_type": "code",
      "execution_count": 28,
      "metadata": {},
      "outputs": [
        {
          "name": "stdout",
          "output_type": "stream",
          "text": [
            "[1 5 2]\n"
          ]
        },
        {
          "data": {
            "text/plain": [
              "array([10, 50, 20])"
            ]
          },
          "execution_count": 28,
          "metadata": {},
          "output_type": "execute_result"
        }
      ],
      "source": [
        "# vektor terhadap skalar\n",
        "print(a)\n",
        "\n",
        "a*10"
      ]
    },
    {
      "cell_type": "code",
      "execution_count": 33,
      "metadata": {
        "id": "NjJPd8HO0AFv"
      },
      "outputs": [
        {
          "data": {
            "image/png": "[encoded data removed]",
            "text/plain": [
              "<Figure size 432x288 with 1 Axes>"
            ]
          },
          "metadata": {
            "needs_background": "light"
          },
          "output_type": "display_data"
        }
      ],
      "source": [
        "v = np.array([3,5])\n",
        "\n",
        "plot_vector2d(-1.5*v, color=\"g\")\n",
        "plot_vector2d(v, color=\"r\")\n",
        "\n",
        "plt.axis([-10,10,-10,10]) # rentang axis sumbu x dan y\n",
        "plt.axvline(0,0)\n",
        "plt.axhline(0,0)\n",
        "plt.grid()\n",
        "plt.show()"
      ]
    },
    {
      "cell_type": "code",
      "execution_count": 34,
      "metadata": {},
      "outputs": [
        {
          "data": {
            "text/plain": [
              "array([ 1, 10,  6])"
            ]
          },
          "execution_count": 34,
          "metadata": {},
          "output_type": "execute_result"
        }
      ],
      "source": [
        "# perkalian vektor terhadap vektor\n",
        "a*b"
      ]
    },
    {
      "cell_type": "code",
      "execution_count": 35,
      "metadata": {},
      "outputs": [
        {
          "data": {
            "text/plain": [
              "17"
            ]
          },
          "execution_count": 35,
          "metadata": {},
          "output_type": "execute_result"
        }
      ],
      "source": [
        "np.dot(a,b)"
      ]
    },
    {
      "cell_type": "code",
      "execution_count": 36,
      "metadata": {},
      "outputs": [
        {
          "data": {
            "text/plain": [
              "17"
            ]
          },
          "execution_count": 36,
          "metadata": {},
          "output_type": "execute_result"
        }
      ],
      "source": [
        "a.dot(b)"
      ]
    },
    {
      "cell_type": "code",
      "execution_count": 37,
      "metadata": {},
      "outputs": [
        {
          "data": {
            "text/plain": [
              "17"
            ]
          },
          "execution_count": 37,
          "metadata": {},
          "output_type": "execute_result"
        }
      ],
      "source": [
        "a@b"
      ]
    },
    {
      "cell_type": "markdown",
      "metadata": {},
      "source": [
        "## Cosine Similarity"
      ]
    },
    {
      "cell_type": "code",
      "execution_count": null,
      "metadata": {},
      "outputs": [],
      "source": [
        "print(a,b)"
      ]
    },
    {
      "cell_type": "code",
      "execution_count": 38,
      "metadata": {},
      "outputs": [
        {
          "data": {
            "text/plain": [
              "0.8295150620062532"
            ]
          },
          "execution_count": 38,
          "metadata": {},
          "output_type": "execute_result"
        }
      ],
      "source": [
        "cos_theta = a @ b /(np.linalg.norm(a)*np.linalg.norm(b))\n",
        "cos_theta"
      ]
    },
    {
      "cell_type": "code",
      "execution_count": 45,
      "metadata": {},
      "outputs": [
        {
          "data": {
            "image/png": "[encoded data removed]",
            "text/plain": [
              "<Figure size 432x288 with 1 Axes>"
            ]
          },
          "metadata": {
            "needs_background": "light"
          },
          "output_type": "display_data"
        }
      ],
      "source": [
        "v = np.array([0,6])\n",
        "u = np.array([0,3])\n",
        "\n",
        "plot_vector2d(v, color=\"r\")\n",
        "plot_vector2d(u, color=\"g\")\n",
        "\n",
        "\n",
        "plt.axis([0,10,0,10]) # rentang axis sumbu x dan y\n",
        "plt.grid()\n",
        "plt.show()"
      ]
    },
    {
      "cell_type": "code",
      "execution_count": 46,
      "metadata": {},
      "outputs": [
        {
          "data": {
            "text/plain": [
              "1.0"
            ]
          },
          "execution_count": 46,
          "metadata": {},
          "output_type": "execute_result"
        }
      ],
      "source": [
        "cos_theta = v @ u /(np.linalg.norm(v)*np.linalg.norm(u))\n",
        "cos_theta"
      ]
    },
    {
      "cell_type": "code",
      "execution_count": 47,
      "metadata": {},
      "outputs": [
        {
          "data": {
            "image/png": "[encoded data removed]",
            "text/plain": [
              "<Figure size 432x288 with 1 Axes>"
            ]
          },
          "metadata": {
            "needs_background": "light"
          },
          "output_type": "display_data"
        }
      ],
      "source": [
        "v = np.array([6,0])\n",
        "u = np.array([0,3])\n",
        "\n",
        "plot_vector2d(v, color=\"r\")\n",
        "plot_vector2d(u, color=\"g\")\n",
        "\n",
        "\n",
        "plt.axis([0,10,0,10]) # rentang axis sumbu x dan y\n",
        "plt.grid()\n",
        "plt.show()"
      ]
    },
    {
      "cell_type": "code",
      "execution_count": 48,
      "metadata": {},
      "outputs": [
        {
          "data": {
            "text/plain": [
              "0.0"
            ]
          },
          "execution_count": 48,
          "metadata": {},
          "output_type": "execute_result"
        }
      ],
      "source": [
        "cos_theta = v @ u /(np.linalg.norm(v)*np.linalg.norm(u))\n",
        "cos_theta"
      ]
    },
    {
      "cell_type": "code",
      "execution_count": 49,
      "metadata": {},
      "outputs": [
        {
          "data": {
            "text/plain": [
              "1.5707963267948966"
            ]
          },
          "execution_count": 49,
          "metadata": {},
          "output_type": "execute_result"
        }
      ],
      "source": [
        "radian = np.arccos(cos_theta)\n",
        "radian"
      ]
    },
    {
      "cell_type": "markdown",
      "metadata": {},
      "source": [
        "kalimat 1 : Kemarin saya pergi ke rumah nenek saya\n",
        "kalimat 2 : Kemarin saya pergi ke rumah nenek saya"
      ]
    },
    {
      "cell_type": "code",
      "execution_count": 60,
      "metadata": {},
      "outputs": [
        {
          "name": "stdout",
          "output_type": "stream",
          "text": [
            "[1 2 1 1 1 1 0]\n",
            "[1 2 1 1 1 0 1]\n"
          ]
        }
      ],
      "source": [
        "kal_1 = [1,2,1,1,1,1,0]\n",
        "kal_2 = [1,2,1,1,1,0,1]\n",
        "\n",
        "kal_1 = np.array(kal_1)\n",
        "kal_2 = np.array(kal_2)\n",
        "\n",
        "print(kal_1)\n",
        "print(kal_2)\n"
      ]
    },
    {
      "cell_type": "code",
      "execution_count": 52,
      "metadata": {},
      "outputs": [
        {
          "data": {
            "text/plain": [
              "0.8888888888888888"
            ]
          },
          "execution_count": 52,
          "metadata": {},
          "output_type": "execute_result"
        }
      ],
      "source": [
        "cos_theta = kal_1 @ kal_2 /(np.linalg.norm(kal_1)*np.linalg.norm(kal_2))\n",
        "cos_theta"
      ]
    },
    {
      "cell_type": "code",
      "execution_count": 62,
      "metadata": {},
      "outputs": [
        {
          "data": {
            "image/png": "[encoded data removed]",
            "text/plain": [
              "<Figure size 432x288 with 1 Axes>"
            ]
          },
          "metadata": {
            "needs_background": "light"
          },
          "output_type": "display_data"
        }
      ],
      "source": [
        "plot_vector2d(kal_1, color=\"r\")\n",
        "plot_vector2d(kal_2, color=\"g\")\n",
        "\n",
        "\n",
        "plt.axis([0,2,0,2]) # rentang axis sumbu x dan y\n",
        "plt.grid()\n",
        "plt.show()"
      ]
    },
    {
      "cell_type": "markdown",
      "metadata": {},
      "source": [
        "kalimat 1: Malam kemarin saya belajar\n",
        "kalimat 2: Kemarin ada pertadingan final badminton"
      ]
    },
    {
      "cell_type": "code",
      "execution_count": 55,
      "metadata": {},
      "outputs": [
        {
          "data": {
            "text/plain": [
              "0.22360679774997896"
            ]
          },
          "execution_count": 55,
          "metadata": {},
          "output_type": "execute_result"
        }
      ],
      "source": [
        "kal1 =[1,1,1,1,0,0,0,0]\n",
        "kal2 =[0,1,0,0,1,1,1,1]\n",
        "\n",
        "kal1 = np.array(kal1)\n",
        "kal2 = np.array(kal2)\n",
        "\n",
        "cos_theta = kal1 @ kal2 /(np.linalg.norm(kal1)*np.linalg.norm(kal2))\n",
        "cos_theta"
      ]
    },
    {
      "cell_type": "code",
      "execution_count": 57,
      "metadata": {},
      "outputs": [
        {
          "data": {
            "image/png": "[encoded data removed]",
            "text/plain": [
              "<Figure size 432x288 with 1 Axes>"
            ]
          },
          "metadata": {
            "needs_background": "light"
          },
          "output_type": "display_data"
        }
      ],
      "source": [
        "plot_vector2d(kal1, color=\"r\")\n",
        "plot_vector2d(kal2, color=\"g\")\n",
        "\n",
        "\n",
        "plt.axis([0,3,0,3]) # rentang axis sumbu x dan y\n",
        "plt.grid()\n",
        "plt.show()"
      ]
    }
  ],
  "metadata": {
    "colab": {
      "name": "VECTOR.ipynb",
      "provenance": []
    },
    "kernelspec": {
      "display_name": "Python 3.9.12 ('base')",
      "language": "python",
      "name": "python3"
    },
    "language_info": {
      "codemirror_mode": {
        "name": "ipython",
        "version": 3
      },
      "file_extension": ".py",
      "mimetype": "text/x-python",
      "name": "python",
      "nbconvert_exporter": "python",
      "pygments_lexer": "ipython3",
      "version": "3.9.12"
    },
    "vscode": {
      "interpreter": {
        "hash": "ad2bdc8ecc057115af97d19610ffacc2b4e99fae6737bb82f5d7fb13d2f2c186"
      }
    }
  },
  "nbformat": 4,
  "nbformat_minor": 0
}
