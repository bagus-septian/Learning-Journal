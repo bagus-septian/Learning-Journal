{
 "cells": [
  {
   "cell_type": "markdown",
   "metadata": {},
   "source": [
    "# Non Graded Challenge 9\n",
    "\n",
    "_Non-Graded Assignment ini dibuat guna mengevaluasi pembelajaran pada Hacktiv8 Data Science Fulltime Program khususnya pada konsep SQL._\n",
    "\n",
    "---\n",
    "## Assignment Instructions\n",
    "\n",
    "Langkah - langkah sebelum mengerjakan : \n",
    "* Gunakan dataset dari URL [ini](https://github.com/danupurnomo/hacktiv8-exercises/blob/main/P0W2D4AM%20%26%20P0W2D4PM%20-%20SQL/P0W2D4AM%20%26%20P0W2D4PM%20-%20SQL.ipynb).\n",
    "* Buatlah table `teachers` dan `courses`. Masukkan semua data pada masing-masing table.\n",
    "* Table `teachers` akan memiliki 15 data.\n",
    "* Table `courses` akan memiliki 20 data.\n",
    "\n",
    "Soal : Carilah dosen yang memiliki gaji tertinggi per masing-masing mata kuliah. Tampilkan semua atribut dosen dan semua atribut mata kuliahnya. Urutkan hasilnya berdasarkan nama mata kuliahnya secara ascending (A-Z).\n",
    "\n",
    "Hasil output yang diharapkan : \n",
    "<img src=\"https://i.ibb.co/gM4QpXj/Phase-0-Output-NGC-9.png\">"
   ]
  },
  {
   "cell_type": "markdown",
   "metadata": {},
   "source": [
    "### 1. Penarikan data gaji tertinggi dosen per mata kuliah dengan menampilkan seluruh atribut dosen dan mata kuliahnya diurutkan berdasarkan nama mata kuliah (A-Z).\n",
    "\n",
    "```\n",
    "select *\n",
    "from teachers\n",
    "join courses on teachers.id=courses.teachers_id\n",
    "where (courses.name, teachers.salary) in (\n",
    "  select courses.name, max(teachers.salary)\n",
    "  from teachers\n",
    "  join courses on teachers.id=courses.teachers_id\n",
    "  group by courses.name)\n",
    "  order by courses.name asc;\n",
    "\n",
    "```"
   ]
  }
 ],
 "metadata": {
  "language_info": {
   "name": "python"
  },
  "orig_nbformat": 4
 },
 "nbformat": 4,
 "nbformat_minor": 2
}
